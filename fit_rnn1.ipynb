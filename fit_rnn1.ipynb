{
 "cells": [
  {
   "cell_type": "code",
   "execution_count": 1,
   "metadata": {},
   "outputs": [
    {
     "name": "stderr",
     "output_type": "stream",
     "text": [
      "2023-05-05 23:43:10.793128: I tensorflow/tsl/cuda/cudart_stub.cc:28] Could not find cuda drivers on your machine, GPU will not be used.\n",
      "2023-05-05 23:43:10.827183: I tensorflow/tsl/cuda/cudart_stub.cc:28] Could not find cuda drivers on your machine, GPU will not be used.\n",
      "2023-05-05 23:43:10.830313: I tensorflow/core/platform/cpu_feature_guard.cc:182] This TensorFlow binary is optimized to use available CPU instructions in performance-critical operations.\n",
      "To enable the following instructions: AVX2 FMA, in other operations, rebuild TensorFlow with the appropriate compiler flags.\n",
      "2023-05-05 23:43:11.650403: W tensorflow/compiler/tf2tensorrt/utils/py_utils.cc:38] TF-TRT Warning: Could not find TensorRT\n"
     ]
    }
   ],
   "source": [
    "import numpy as np \n",
    "import pandas as pd \n",
    "from sklearn.preprocessing import StandardScaler\n",
    "import tensorflow as tf \n",
    "from tensorflow import keras\n",
    "import matplotlib.pyplot as plt \n",
    "%matplotlib inline"
   ]
  },
  {
   "cell_type": "code",
   "execution_count": 2,
   "metadata": {},
   "outputs": [],
   "source": [
    "htc = pd.read_csv('./htc_test.csv')"
   ]
  },
  {
   "cell_type": "code",
   "execution_count": 3,
   "metadata": {},
   "outputs": [],
   "source": [
    "temp = pd.read_csv('./temp_test.csv')"
   ]
  },
  {
   "cell_type": "code",
   "execution_count": 4,
   "metadata": {},
   "outputs": [
    {
     "data": {
      "text/plain": [
       "pandas.core.frame.DataFrame"
      ]
     },
     "execution_count": 4,
     "metadata": {},
     "output_type": "execute_result"
    }
   ],
   "source": [
    "type(htc)"
   ]
  },
  {
   "cell_type": "code",
   "execution_count": 5,
   "metadata": {},
   "outputs": [],
   "source": [
    "x = temp.to_numpy()\n",
    "y = htc.to_numpy()"
   ]
  },
  {
   "cell_type": "code",
   "execution_count": 6,
   "metadata": {},
   "outputs": [],
   "source": [
    "x_train = x[:900000]\n",
    "y_train = y[:900000]\n",
    "\n",
    "x_train_copy = x_train.copy()\n",
    "\n",
    "x_valid = x[900000:910000]\n",
    "y_valid = y[900000:910000]\n",
    "\n",
    "x_test = x[910000:920000]\n",
    "y_test = y[910000:920000]"
   ]
  },
  {
   "cell_type": "code",
   "execution_count": 7,
   "metadata": {},
   "outputs": [],
   "source": [
    "temp = None\n",
    "htc = None\n",
    "# clear the dataframes. Not needed anymore"
   ]
  },
  {
   "cell_type": "code",
   "execution_count": 8,
   "metadata": {},
   "outputs": [
    {
     "data": {
      "text/plain": [
       "(900000, 120)"
      ]
     },
     "execution_count": 8,
     "metadata": {},
     "output_type": "execute_result"
    }
   ],
   "source": [
    "x_train.shape"
   ]
  },
  {
   "cell_type": "code",
   "execution_count": 9,
   "metadata": {},
   "outputs": [],
   "source": [
    "scaler = StandardScaler()\n",
    "scaler.fit(x_train)\n",
    "x_train = scaler.transform(x_train)\n",
    "x_valid = scaler.transform(x_valid)\n",
    "x_test = scaler.transform(x_test)"
   ]
  },
  {
   "cell_type": "code",
   "execution_count": 10,
   "metadata": {},
   "outputs": [],
   "source": [
    "x_train_seq = x_train.reshape(-1, 120, 1)\n",
    "x_valid_seq = x_valid.reshape(-1, 120, 1)\n",
    "x_test_seq = x_test.reshape(-1, 120, 1)"
   ]
  },
  {
   "cell_type": "code",
   "execution_count": 13,
   "metadata": {},
   "outputs": [],
   "source": [
    "y_train_seq = y_train.reshape(-1, 120, 1)\n",
    "y_valid_seq = y_valid.reshape(-1, 120, 1)\n",
    "y_test_seq = y_test.reshape(-1, 120, 1)"
   ]
  },
  {
   "cell_type": "code",
   "execution_count": 14,
   "metadata": {},
   "outputs": [
    {
     "data": {
      "text/plain": [
       "(900000, 120, 1)"
      ]
     },
     "execution_count": 14,
     "metadata": {},
     "output_type": "execute_result"
    }
   ],
   "source": [
    "x_train_seq.shape"
   ]
  },
  {
   "cell_type": "code",
   "execution_count": 15,
   "metadata": {},
   "outputs": [],
   "source": [
    "# scaler_y = StandardScaler()\n",
    "# scaler_y.fit(y_train)\n",
    "# y_train = scaler_y.transform(y_train)\n",
    "# y_valid = scaler_y.transform(y_valid)\n",
    "# y_test = scaler_y.transform(y_test)"
   ]
  },
  {
   "cell_type": "code",
   "execution_count": 16,
   "metadata": {},
   "outputs": [
    {
     "name": "stderr",
     "output_type": "stream",
     "text": [
      "2023-05-05 23:44:03.532989: I tensorflow/core/common_runtime/executor.cc:1197] [/device:CPU:0] (DEBUG INFO) Executor start aborting (this does not indicate an error and you can ignore this message): INVALID_ARGUMENT: You must feed a value for placeholder tensor 'gradients/split_2_grad/concat/split_2/split_dim' with dtype int32\n",
      "\t [[{{node gradients/split_2_grad/concat/split_2/split_dim}}]]\n",
      "2023-05-05 23:44:03.535249: I tensorflow/core/common_runtime/executor.cc:1197] [/device:CPU:0] (DEBUG INFO) Executor start aborting (this does not indicate an error and you can ignore this message): INVALID_ARGUMENT: You must feed a value for placeholder tensor 'gradients/split_grad/concat/split/split_dim' with dtype int32\n",
      "\t [[{{node gradients/split_grad/concat/split/split_dim}}]]\n",
      "2023-05-05 23:44:03.536529: I tensorflow/core/common_runtime/executor.cc:1197] [/device:CPU:0] (DEBUG INFO) Executor start aborting (this does not indicate an error and you can ignore this message): INVALID_ARGUMENT: You must feed a value for placeholder tensor 'gradients/split_1_grad/concat/split_1/split_dim' with dtype int32\n",
      "\t [[{{node gradients/split_1_grad/concat/split_1/split_dim}}]]\n",
      "2023-05-05 23:44:03.934681: I tensorflow/core/common_runtime/executor.cc:1197] [/device:CPU:0] (DEBUG INFO) Executor start aborting (this does not indicate an error and you can ignore this message): INVALID_ARGUMENT: You must feed a value for placeholder tensor 'gradients/split_2_grad/concat/split_2/split_dim' with dtype int32\n",
      "\t [[{{node gradients/split_2_grad/concat/split_2/split_dim}}]]\n",
      "2023-05-05 23:44:03.937634: I tensorflow/core/common_runtime/executor.cc:1197] [/device:CPU:0] (DEBUG INFO) Executor start aborting (this does not indicate an error and you can ignore this message): INVALID_ARGUMENT: You must feed a value for placeholder tensor 'gradients/split_grad/concat/split/split_dim' with dtype int32\n",
      "\t [[{{node gradients/split_grad/concat/split/split_dim}}]]\n",
      "2023-05-05 23:44:03.939084: I tensorflow/core/common_runtime/executor.cc:1197] [/device:CPU:0] (DEBUG INFO) Executor start aborting (this does not indicate an error and you can ignore this message): INVALID_ARGUMENT: You must feed a value for placeholder tensor 'gradients/split_1_grad/concat/split_1/split_dim' with dtype int32\n",
      "\t [[{{node gradients/split_1_grad/concat/split_1/split_dim}}]]\n"
     ]
    }
   ],
   "source": [
    "model = keras.models.Sequential([\n",
    "    keras.layers.LSTM(50, return_sequences=True, input_shape=(120, 1)),\n",
    "    keras.layers.LSTM(100, return_sequences=True),\n",
    "    keras.layers.TimeDistributed(keras.layers.Dense(1))\n",
    "])"
   ]
  },
  {
   "cell_type": "code",
   "execution_count": 17,
   "metadata": {},
   "outputs": [],
   "source": [
    "model.compile(loss='mse', optimizer='adam', metrics=[\n",
    "    keras.metrics.RootMeanSquaredError(),\n",
    "    keras.metrics.MeanAbsolutePercentageError()\n",
    "])"
   ]
  },
  {
   "cell_type": "code",
   "execution_count": 19,
   "metadata": {},
   "outputs": [
    {
     "name": "stderr",
     "output_type": "stream",
     "text": [
      "2023-05-05 23:44:19.756378: W tensorflow/tsl/framework/cpu_allocator_impl.cc:83] Allocation of 432000000 exceeds 10% of free system memory.\n"
     ]
    },
    {
     "name": "stdout",
     "output_type": "stream",
     "text": [
      "Epoch 1/3\n"
     ]
    },
    {
     "name": "stderr",
     "output_type": "stream",
     "text": [
      "2023-05-05 23:44:20.356209: W tensorflow/tsl/framework/cpu_allocator_impl.cc:83] Allocation of 432000000 exceeds 10% of free system memory.\n"
     ]
    },
    {
     "name": "stdout",
     "output_type": "stream",
     "text": [
      "13345/28125 [=============>................] - ETA: 21:16 - loss: 1452960.0000 - root_mean_squared_error: 1205.3870 - mean_absolute_percentage_error: 25.4639"
     ]
    }
   ],
   "source": [
    "history = model.fit(x_train_seq, y_train_seq, epochs=3, validation_data=(x_valid_seq, y_valid_seq))"
   ]
  },
  {
   "cell_type": "code",
   "execution_count": 36,
   "metadata": {},
   "outputs": [],
   "source": [
    "model.save('LSTM_2.h5')"
   ]
  },
  {
   "cell_type": "code",
   "execution_count": 37,
   "metadata": {},
   "outputs": [
    {
     "name": "stdout",
     "output_type": "stream",
     "text": [
      "313/313 [==============================] - 11s 36ms/step - loss: 45657.3477 - root_mean_squared_error: 213.6758 - mean_absolute_percentage_error: 3.7138\n"
     ]
    },
    {
     "data": {
      "text/plain": [
       "[45657.34765625, 213.6758270263672, 3.7137715816497803]"
      ]
     },
     "execution_count": 37,
     "metadata": {},
     "output_type": "execute_result"
    }
   ],
   "source": [
    "model.evaluate(x_test_seq, y_test_seq)"
   ]
  },
  {
   "cell_type": "code",
   "execution_count": 42,
   "metadata": {},
   "outputs": [
    {
     "data": {
      "text/plain": [
       "(1, 120)"
      ]
     },
     "execution_count": 42,
     "metadata": {},
     "output_type": "execute_result"
    }
   ],
   "source": [
    "y_train_seq[indx].reshape(1,120).shape"
   ]
  },
  {
   "cell_type": "code",
   "execution_count": 56,
   "metadata": {},
   "outputs": [
    {
     "data": {
      "text/plain": [
       "(3, 120, 1)"
      ]
     },
     "execution_count": 56,
     "metadata": {},
     "output_type": "execute_result"
    }
   ],
   "source": [
    "x_train_seq[0:3].shape"
   ]
  },
  {
   "cell_type": "code",
   "execution_count": 57,
   "metadata": {},
   "outputs": [
    {
     "data": {
      "text/plain": [
       "(100000, 120, 1)"
      ]
     },
     "execution_count": 57,
     "metadata": {},
     "output_type": "execute_result"
    }
   ],
   "source": [
    "y_train_seq.shape"
   ]
  },
  {
   "cell_type": "code",
   "execution_count": 108,
   "metadata": {},
   "outputs": [
    {
     "name": "stderr",
     "output_type": "stream",
     "text": [
      "2023-05-05 23:42:15.705071: I tensorflow/core/common_runtime/executor.cc:1197] [/device:CPU:0] (DEBUG INFO) Executor start aborting (this does not indicate an error and you can ignore this message): INVALID_ARGUMENT: You must feed a value for placeholder tensor 'gradients/split_2_grad/concat/split_2/split_dim' with dtype int32\n",
      "\t [[{{node gradients/split_2_grad/concat/split_2/split_dim}}]]\n",
      "2023-05-05 23:42:15.707382: I tensorflow/core/common_runtime/executor.cc:1197] [/device:CPU:0] (DEBUG INFO) Executor start aborting (this does not indicate an error and you can ignore this message): INVALID_ARGUMENT: You must feed a value for placeholder tensor 'gradients/split_grad/concat/split/split_dim' with dtype int32\n",
      "\t [[{{node gradients/split_grad/concat/split/split_dim}}]]\n",
      "2023-05-05 23:42:15.708689: I tensorflow/core/common_runtime/executor.cc:1197] [/device:CPU:0] (DEBUG INFO) Executor start aborting (this does not indicate an error and you can ignore this message): INVALID_ARGUMENT: You must feed a value for placeholder tensor 'gradients/split_1_grad/concat/split_1/split_dim' with dtype int32\n",
      "\t [[{{node gradients/split_1_grad/concat/split_1/split_dim}}]]\n",
      "2023-05-05 23:42:15.883528: I tensorflow/core/common_runtime/executor.cc:1197] [/device:CPU:0] (DEBUG INFO) Executor start aborting (this does not indicate an error and you can ignore this message): INVALID_ARGUMENT: You must feed a value for placeholder tensor 'gradients/split_2_grad/concat/split_2/split_dim' with dtype int32\n",
      "\t [[{{node gradients/split_2_grad/concat/split_2/split_dim}}]]\n",
      "2023-05-05 23:42:15.887266: I tensorflow/core/common_runtime/executor.cc:1197] [/device:CPU:0] (DEBUG INFO) Executor start aborting (this does not indicate an error and you can ignore this message): INVALID_ARGUMENT: You must feed a value for placeholder tensor 'gradients/split_grad/concat/split/split_dim' with dtype int32\n",
      "\t [[{{node gradients/split_grad/concat/split/split_dim}}]]\n",
      "2023-05-05 23:42:15.889889: I tensorflow/core/common_runtime/executor.cc:1197] [/device:CPU:0] (DEBUG INFO) Executor start aborting (this does not indicate an error and you can ignore this message): INVALID_ARGUMENT: You must feed a value for placeholder tensor 'gradients/split_1_grad/concat/split_1/split_dim' with dtype int32\n",
      "\t [[{{node gradients/split_1_grad/concat/split_1/split_dim}}]]\n"
     ]
    },
    {
     "name": "stdout",
     "output_type": "stream",
     "text": [
      "1/1 [==============================] - 1s 612ms/step\n"
     ]
    }
   ],
   "source": [
    "p = model.predict(x_train_seq[0:3])"
   ]
  },
  {
   "cell_type": "code",
   "execution_count": 109,
   "metadata": {},
   "outputs": [
    {
     "data": {
      "text/plain": [
       "(3, 120, 1)"
      ]
     },
     "execution_count": 109,
     "metadata": {},
     "output_type": "execute_result"
    }
   ],
   "source": [
    "p.shape"
   ]
  },
  {
   "cell_type": "code",
   "execution_count": 110,
   "metadata": {},
   "outputs": [
    {
     "data": {
      "text/plain": [
       "array([[ 2.6774926],\n",
       "       [10.421473 ],\n",
       "       [29.70935  ],\n",
       "       [42.777218 ],\n",
       "       [44.822636 ],\n",
       "       [45.106213 ],\n",
       "       [45.15028  ],\n",
       "       [45.15736  ],\n",
       "       [45.15857  ],\n",
       "       [45.158817 ],\n",
       "       [45.158886 ],\n",
       "       [45.1589   ],\n",
       "       [45.15891  ],\n",
       "       [45.158913 ],\n",
       "       [45.158913 ],\n",
       "       [45.158913 ],\n",
       "       [45.158913 ],\n",
       "       [45.15891  ],\n",
       "       [45.158905 ],\n",
       "       [45.158905 ],\n",
       "       [45.1589   ],\n",
       "       [45.1589   ],\n",
       "       [45.1589   ],\n",
       "       [45.158913 ],\n",
       "       [45.15892  ],\n",
       "       [45.15892  ],\n",
       "       [45.158928 ],\n",
       "       [45.15893  ],\n",
       "       [45.15893  ],\n",
       "       [45.15893  ],\n",
       "       [45.15893  ],\n",
       "       [45.158936 ],\n",
       "       [45.158936 ],\n",
       "       [45.15893  ],\n",
       "       [45.15893  ],\n",
       "       [45.15893  ],\n",
       "       [45.15893  ],\n",
       "       [45.15893  ],\n",
       "       [45.15893  ],\n",
       "       [45.15893  ],\n",
       "       [45.15893  ],\n",
       "       [45.15893  ],\n",
       "       [45.15893  ],\n",
       "       [45.158936 ],\n",
       "       [45.15893  ],\n",
       "       [45.15893  ],\n",
       "       [45.15893  ],\n",
       "       [45.158936 ],\n",
       "       [45.158936 ],\n",
       "       [45.158936 ],\n",
       "       [45.158936 ],\n",
       "       [45.158936 ],\n",
       "       [45.158936 ],\n",
       "       [45.158936 ],\n",
       "       [45.158936 ],\n",
       "       [45.158936 ],\n",
       "       [45.158936 ],\n",
       "       [45.158936 ],\n",
       "       [45.158936 ],\n",
       "       [45.158936 ],\n",
       "       [45.158936 ],\n",
       "       [45.158936 ],\n",
       "       [45.158936 ],\n",
       "       [45.158936 ],\n",
       "       [45.158936 ],\n",
       "       [45.158936 ],\n",
       "       [45.158936 ],\n",
       "       [45.158936 ],\n",
       "       [45.158936 ],\n",
       "       [45.158936 ],\n",
       "       [45.158936 ],\n",
       "       [45.158936 ],\n",
       "       [45.158936 ],\n",
       "       [45.158936 ],\n",
       "       [45.158936 ],\n",
       "       [45.158936 ],\n",
       "       [45.158936 ],\n",
       "       [45.158936 ],\n",
       "       [45.158936 ],\n",
       "       [45.158936 ],\n",
       "       [45.158936 ],\n",
       "       [45.158936 ],\n",
       "       [45.158936 ],\n",
       "       [45.158936 ],\n",
       "       [45.158936 ],\n",
       "       [45.158936 ],\n",
       "       [45.158936 ],\n",
       "       [45.158936 ],\n",
       "       [45.158936 ],\n",
       "       [45.158936 ],\n",
       "       [45.158936 ],\n",
       "       [45.158936 ],\n",
       "       [45.158936 ],\n",
       "       [45.158936 ],\n",
       "       [45.158936 ],\n",
       "       [45.158936 ],\n",
       "       [45.158936 ],\n",
       "       [45.158936 ],\n",
       "       [45.158936 ],\n",
       "       [45.158936 ],\n",
       "       [45.158936 ],\n",
       "       [45.158936 ],\n",
       "       [45.158936 ],\n",
       "       [45.158936 ],\n",
       "       [45.158936 ],\n",
       "       [45.158936 ],\n",
       "       [45.158936 ],\n",
       "       [45.158936 ],\n",
       "       [45.158936 ],\n",
       "       [45.15893  ],\n",
       "       [45.15893  ],\n",
       "       [45.15893  ],\n",
       "       [45.15893  ],\n",
       "       [45.15893  ],\n",
       "       [45.15893  ],\n",
       "       [45.15893  ],\n",
       "       [45.15893  ],\n",
       "       [45.15893  ],\n",
       "       [45.15893  ],\n",
       "       [45.15893  ]], dtype=float32)"
      ]
     },
     "execution_count": 110,
     "metadata": {},
     "output_type": "execute_result"
    }
   ],
   "source": [
    "p[0]"
   ]
  },
  {
   "cell_type": "code",
   "execution_count": 104,
   "metadata": {},
   "outputs": [
    {
     "name": "stdout",
     "output_type": "stream",
     "text": [
      "1/1 [==============================] - 0s 31ms/step\n"
     ]
    },
    {
     "data": {
      "image/png": "[encoded data removed]",
      "text/plain": [
       "<Figure size 640x480 with 1 Axes>"
      ]
     },
     "metadata": {},
     "output_type": "display_data"
    }
   ],
   "source": [
    "indx = 990\n",
    "# x = np.arange(0, 120, 1)\n",
    "x = x_train_copy[indx]\n",
    "# print(x)\n",
    "plt.plot(x, y_train_seq[indx], label='original')\n",
    "plt.plot(x, model.predict(x_train_seq[indx:indx+1])[0][:, -1], label='predicted')\n",
    "  \n",
    "# Naming the x-axis, y-axis and the whole graph\n",
    "plt.xlabel(\"Time\")\n",
    "plt.ylabel(\"HTC\")\n",
    "plt.title(\"HTC vs Time\")\n",
    "  \n",
    "# Adding legend, which helps us recognize the curve according to it's color\n",
    "plt.legend()\n",
    "  \n",
    "# To load the display window\n",
    "plt.show()"
   ]
  },
  {
   "cell_type": "code",
   "execution_count": null,
   "metadata": {},
   "outputs": [],
   "source": []
  }
 ],
 "metadata": {
  "kernelspec": {
   "display_name": "Python 3",
   "language": "python",
   "name": "python3"
  },
  "language_info": {
   "codemirror_mode": {
    "name": "ipython",
    "version": 3
   },
   "file_extension": ".py",
   "mimetype": "text/x-python",
   "name": "python",
   "nbconvert_exporter": "python",
   "pygments_lexer": "ipython3",
   "version": "3.9.2"
  },
  "orig_nbformat": 4
 },
 "nbformat": 4,
 "nbformat_minor": 2
}
