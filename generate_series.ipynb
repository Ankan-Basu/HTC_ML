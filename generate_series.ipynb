{
 "cells": [
  {
   "cell_type": "code",
   "execution_count": 1,
   "metadata": {},
   "outputs": [],
   "source": [
    "import numpy as np "
   ]
  },
  {
   "cell_type": "code",
   "execution_count": 2,
   "metadata": {},
   "outputs": [],
   "source": [
    "import sys\n",
    "import getopt\n",
    "import struct"
   ]
  },
  {
   "cell_type": "code",
   "execution_count": 3,
   "metadata": {},
   "outputs": [],
   "source": [
    "from math import exp"
   ]
  },
  {
   "cell_type": "code",
   "execution_count": 4,
   "metadata": {},
   "outputs": [],
   "source": [
    "MAX_TIME = 60.0\n",
    "MAX_TIME_DELTA = 0.5\n",
    "\n",
    "TEMP_VALUE_CNT = int(MAX_TIME // MAX_TIME_DELTA)\n",
    "\n",
    "MAX_TEMPERATURE = 850.0\n",
    "MAX_TEMPERATURE_DELTA = 10.0\n",
    "HTC_VALUE_CNT = int(MAX_TEMPERATURE // MAX_TEMPERATURE_DELTA) + 1\n",
    "\n",
    "MAX_CONTROL_POINT_CNT = 5"
   ]
  },
  {
   "cell_type": "code",
   "execution_count": 5,
   "metadata": {},
   "outputs": [],
   "source": [
    "def load_temp(temp_file, pset=0):\n",
    "    temp_file.seek(pset * TEMP_VALUE_CNT * 4)\n",
    "    x = temp_file.read(TEMP_VALUE_CNT * 4)\n",
    "    temp_vector = struct.unpack('f' * TEMP_VALUE_CNT, x)\n",
    "    return temp_vector"
   ]
  },
  {
   "cell_type": "code",
   "execution_count": 6,
   "metadata": {},
   "outputs": [],
   "source": [
    "def load_htc_header(htc_header_file, pset=0):\n",
    "    htc_header_record_size = MAX_CONTROL_POINT_CNT * 3 + 1\n",
    "    htc_header_file.seek(pset * htc_header_record_size * 4)\n",
    "    y = htc_header_file.read(htc_header_record_size * 4)\n",
    "    floats = struct.unpack('f' * htc_header_record_size, y)\n",
    "\n",
    "    ''' \n",
    "    floats is array of type \n",
    "    floats[0] = no of control points. always 5. So we drop it\n",
    "    floats[1:] = ith control pt temp, ith control pt htc, ith cont pt alpha for all i control pts\n",
    "    basically 15 + 1 (+1 for floats[0]) no. of values\n",
    "    '''\n",
    "\n",
    "    res_arr = []\n",
    "    for i in range(1, 16, 3):\n",
    "        tmp_dict = {'temp': floats[i], 'htc': floats[i+1], 'alpha': floats[i+2]}\n",
    "        res_arr.append(tmp_dict)\n",
    "\n",
    "    # print('floats', floats)\n",
    "    return res_arr"
   ]
  },
  {
   "cell_type": "code",
   "execution_count": 7,
   "metadata": {},
   "outputs": [],
   "source": [
    "def load_htc(htc_data_file, pset=0):\n",
    "    htc_data_file.seek(pset * HTC_VALUE_CNT * 4)\n",
    "    x = htc_data_file.read(HTC_VALUE_CNT * 4)\n",
    "    htc_arr = struct.unpack('f' * HTC_VALUE_CNT, x)\n",
    "    return htc_arr"
   ]
  },
  {
   "cell_type": "code",
   "execution_count": 8,
   "metadata": {},
   "outputs": [],
   "source": [
    "def create_htc_value(P_i, P_i_plus_1, T):\n",
    "    '''\n",
    "    P_i is control pt before T\n",
    "    P_i_plus_1 is control pt after T\n",
    "    C is scaling factor. usually 7\n",
    "    '''\n",
    "    C = 7\n",
    "\n",
    "    alpha_i = P_i['alpha']\n",
    "\n",
    "    if (alpha_i != 0):\n",
    "        alpha_i_dash = 1 / (alpha_i * C)\n",
    "    \n",
    "    del_T = (T - P_i['temp']) / (P_i_plus_1['temp'] - P_i['temp'])\n",
    "    \n",
    "    if (alpha_i != 0):\n",
    "        gamma_T = (1 - exp(-del_T / alpha_i_dash)) / (1 - exp(-1/alpha_i_dash))\n",
    "\n",
    "    if (alpha_i != 0):\n",
    "        HTC_T = P_i['htc'] + gamma_T * (P_i_plus_1['htc'] - P_i['htc'])\n",
    "    else:\n",
    "        HTC_T = P_i['htc'] + del_T * (P_i_plus_1['htc'] - P_i['htc'])\n",
    "\n",
    "    return HTC_T"
   ]
  },
  {
   "cell_type": "code",
   "execution_count": 9,
   "metadata": {},
   "outputs": [],
   "source": [
    "def create_htc_series(temp_series, htc_headers):\n",
    "    ptr_htc_1 = 4 # end of htc array\n",
    "    ptr_htc_2 = 5 # beyond end of htc array\n",
    "\n",
    "    dummy_last_htc_val = {'temp': 850, 'htc': 0, 'alpha': 0}\n",
    "    htc_headers.append(dummy_last_htc_val)\n",
    "\n",
    "    res_arr = []\n",
    "    for T in temp_series: \n",
    "        htc = None\n",
    "        while True:\n",
    "            # print(f'ptr1 = {ptr_htc_1}, ptr2 = {ptr_htc_2}', end= ' ')\n",
    "            # print(f'ptr1.T = {htc_headers[ptr_htc_1][\"temp\"]}, ptr2.T = {htc_headers[ptr_htc_2][\"temp\"]}', end= '\\n')\n",
    "            # print(f'T = {T}\\n')\n",
    "\n",
    "            if (ptr_htc_1 < 0):\n",
    "                break\n",
    "            elif (T == htc_headers[ptr_htc_1]['temp']):\n",
    "                htc = htc_headers[ptr_htc_1]['htc']\n",
    "                break\n",
    "            elif (T == htc_headers[ptr_htc_2]['temp']):\n",
    "                htc_headers[ptr_htc_2]['htc']\n",
    "                break\n",
    "            elif (T > htc_headers[ptr_htc_1]['temp'] and T < htc_headers[ptr_htc_2]['temp']):\n",
    "                break\n",
    "            else:\n",
    "                if (T < htc_headers[ptr_htc_1]['temp']):\n",
    "                    ptr_htc_1 -= 1\n",
    "                    ptr_htc_2 -= 1\n",
    "                else:\n",
    "                    ptr_htc_1 += 1\n",
    "                    ptr_htc_2 += 1\n",
    "\n",
    "\n",
    "        if (ptr_htc_1 < 0):\n",
    "            htc = htc_headers[0]['htc']\n",
    "        elif (ptr_htc_2 > 4):\n",
    "            htc = htc_headers[4]['htc']\n",
    "            \n",
    "        if (not htc):\n",
    "            P_i = htc_headers[ptr_htc_1]\n",
    "            P_i_plus_1 = htc_headers[ptr_htc_2]\n",
    "\n",
    "            htc = create_htc_value(P_i, P_i_plus_1, T)\n",
    "        \n",
    "        res_arr.append(htc)\n",
    "\n",
    "    return res_arr"
   ]
  },
  {
   "cell_type": "code",
   "execution_count": 10,
   "metadata": {},
   "outputs": [],
   "source": [
    "htc_header_file = open('../Data/test_htc_header.bin', 'rb')"
   ]
  },
  {
   "cell_type": "code",
   "execution_count": 11,
   "metadata": {},
   "outputs": [],
   "source": [
    "temp_file = open('../Data/test_temp_data.bin', 'rb')"
   ]
  },
  {
   "cell_type": "code",
   "execution_count": 12,
   "metadata": {},
   "outputs": [],
   "source": [
    "htc_data_file = open('../Data/test_htc_data.bin', 'rb')"
   ]
  },
  {
   "cell_type": "code",
   "execution_count": 51,
   "metadata": {},
   "outputs": [],
   "source": [
    "temp = load_temp(temp_file, 310)"
   ]
  },
  {
   "cell_type": "code",
   "execution_count": 52,
   "metadata": {},
   "outputs": [],
   "source": [
    "htc = load_htc(htc_data_file, 310)"
   ]
  },
  {
   "cell_type": "code",
   "execution_count": 15,
   "metadata": {},
   "outputs": [],
   "source": [
    "#htc"
   ]
  },
  {
   "cell_type": "code",
   "execution_count": 53,
   "metadata": {},
   "outputs": [],
   "source": [
    "htc_headers = load_htc_header(htc_header_file, 310)"
   ]
  },
  {
   "cell_type": "code",
   "execution_count": 56,
   "metadata": {},
   "outputs": [],
   "source": [
    "htc_created = create_htc_series(temp, htc_headers)"
   ]
  },
  {
   "cell_type": "code",
   "execution_count": 18,
   "metadata": {},
   "outputs": [],
   "source": [
    "import matplotlib.pyplot as plt \n",
    "%matplotlib inline"
   ]
  },
  {
   "cell_type": "code",
   "execution_count": null,
   "metadata": {},
   "outputs": [],
   "source": []
  },
  {
   "cell_type": "code",
   "execution_count": 19,
   "metadata": {},
   "outputs": [],
   "source": [
    "def plot_htc(htc_arr):\n",
    "    Y = htc_arr\n",
    "    X = x = np.arange(0, 860, 10)\n",
    "\n",
    "    # Create a figure and axis\n",
    "    fig, ax = plt.subplots()\n",
    "\n",
    "    # Plot the data\n",
    "    ax.plot(X, Y)\n",
    "\n",
    "    # Set the title and labels\n",
    "    ax.set_title('HTC History')\n",
    "    ax.set_xlabel('Temperature')\n",
    "    ax.set_ylabel('HTC')\n",
    "\n",
    "    # Show the plot\n",
    "    plt.show()"
   ]
  },
  {
   "cell_type": "code",
   "execution_count": 20,
   "metadata": {},
   "outputs": [],
   "source": [
    "def plot_htc2(htc_arr, temp_arr):\n",
    "    Y = htc_arr\n",
    "    X = x = temp_arr\n",
    "\n",
    "    # Create a figure and axis\n",
    "    fig, ax = plt.subplots()\n",
    "\n",
    "    # Plot the data\n",
    "    ax.plot(X, Y)\n",
    "\n",
    "    # Set the title and labels\n",
    "    ax.set_title('HTC History')\n",
    "    ax.set_xlabel('Temperature')\n",
    "    ax.set_ylabel('HTC')\n",
    "\n",
    "    # Show the plot\n",
    "    plt.show()"
   ]
  },
  {
   "cell_type": "code",
   "execution_count": 54,
   "metadata": {},
   "outputs": [
    {
     "data": {
      "image/png": "[encoded data removed]",
      "text/plain": [
       "<Figure size 640x480 with 1 Axes>"
      ]
     },
     "metadata": {},
     "output_type": "display_data"
    }
   ],
   "source": [
    "plot_htc(htc)"
   ]
  },
  {
   "cell_type": "code",
   "execution_count": 57,
   "metadata": {},
   "outputs": [
    {
     "data": {
      "image/png": "[encoded data removed]",
      "text/plain": [
       "<Figure size 640x480 with 1 Axes>"
      ]
     },
     "metadata": {},
     "output_type": "display_data"
    }
   ],
   "source": [
    "\n",
    "plot_htc2(htc_created, temp)"
   ]
  },
  {
   "cell_type": "code",
   "execution_count": 23,
   "metadata": {},
   "outputs": [
    {
     "data": {
      "text/plain": [
       "(414.0,\n",
       " 414.0,\n",
       " 414.0,\n",
       " 414.0,\n",
       " 414.0,\n",
       " 414.0,\n",
       " 414.0,\n",
       " 414.0,\n",
       " 414.0,\n",
       " 414.0,\n",
       " 414.0,\n",
       " 414.0,\n",
       " 414.0,\n",
       " 414.0,\n",
       " 414.0,\n",
       " 414.0,\n",
       " 414.0,\n",
       " 414.0,\n",
       " 414.0,\n",
       " 414.0,\n",
       " 414.0,\n",
       " 414.0,\n",
       " 414.0,\n",
       " 414.0,\n",
       " 414.0,\n",
       " 414.0,\n",
       " 414.0,\n",
       " 414.0,\n",
       " 414.0,\n",
       " 414.0,\n",
       " 414.0,\n",
       " 1880.2947998046875,\n",
       " 2764.707763671875,\n",
       " 3533.380126953125,\n",
       " 4201.45849609375,\n",
       " 4782.107421875,\n",
       " 5286.7685546875,\n",
       " 5725.38623046875,\n",
       " 6106.60302734375,\n",
       " 6437.93115234375,\n",
       " 6725.8994140625,\n",
       " 6976.181640625,\n",
       " 7193.7109375,\n",
       " 7382.77197265625,\n",
       " 7547.091796875,\n",
       " 7689.9072265625,\n",
       " 7814.03271484375,\n",
       " 7921.91455078125,\n",
       " 8015.67822265625,\n",
       " 8097.1708984375,\n",
       " 8167.99951171875,\n",
       " 8229.55859375,\n",
       " 8283.0615234375,\n",
       " 8329.5625,\n",
       " 8369.978515625,\n",
       " 8405.10546875,\n",
       " 8435.634765625,\n",
       " 8452.0,\n",
       " 4990.90966796875,\n",
       " 3463.925537109375,\n",
       " 2436.5625,\n",
       " 1745.3472900390625,\n",
       " 1280.2939453125,\n",
       " 967.403564453125,\n",
       " 756.8892211914062,\n",
       " 615.2540893554688,\n",
       " 519.961181640625,\n",
       " 455.84759521484375,\n",
       " 412.7116394042969,\n",
       " 377.0,\n",
       " 387.8622741699219,\n",
       " 403.60504150390625,\n",
       " 419.61688232421875,\n",
       " 435.90240478515625,\n",
       " 452.4662780761719,\n",
       " 469.313232421875,\n",
       " 486.4481506347656,\n",
       " 503.8759460449219,\n",
       " 521.6015625,\n",
       " 536.0,\n",
       " 370.14892578125,\n",
       " 272.1147766113281,\n",
       " 200.25686645507812,\n",
       " 147.5858154296875,\n",
       " 123.0,\n",
       " 123.0)"
      ]
     },
     "execution_count": 23,
     "metadata": {},
     "output_type": "execute_result"
    }
   ],
   "source": [
    "htc"
   ]
  },
  {
   "cell_type": "code",
   "execution_count": 24,
   "metadata": {},
   "outputs": [],
   "source": [
    "import csv"
   ]
  },
  {
   "cell_type": "code",
   "execution_count": 25,
   "metadata": {},
   "outputs": [],
   "source": [
    "def create_temp_csv(filename, rows):\n",
    "    with open(filename, mode='w') as csv_file:\n",
    "        fieldnames = [f'col{x}' for x in range(120)]\n",
    "        writer = csv.writer(csv_file)\n",
    "        writer.writerow(fieldnames) # write the header row\n",
    "\n",
    "        for i in range(rows):\n",
    "            row = load_temp(temp_file, i) # generate a row of data\n",
    "            writer.writerow(row) # write the row to the CSV file"
   ]
  },
  {
   "cell_type": "code",
   "execution_count": 36,
   "metadata": {},
   "outputs": [],
   "source": [
    "def create_htc_120_csv(filename, rows):\n",
    "    with open(filename, mode='w') as csv_file:\n",
    "        fieldnames = [f'col{x}' for x in range(120)]\n",
    "        writer = csv.writer(csv_file)\n",
    "        writer.writerow(fieldnames) # write the header row\n",
    "\n",
    "        for i in range(rows):\n",
    "            htc_headers = load_htc_header(htc_header_file, i)\n",
    "            temp = load_temp(temp_file, i)\n",
    "            htc_created = create_htc_series(temp, htc_headers)\n",
    "            row = htc_created # generate a row of data\n",
    "            writer.writerow(row) # write the row to the CSV file"
   ]
  },
  {
   "cell_type": "code",
   "execution_count": 144,
   "metadata": {},
   "outputs": [],
   "source": [
    "create_temp_csv('temp_test.csv', 1000000)"
   ]
  },
  {
   "cell_type": "code",
   "execution_count": 37,
   "metadata": {},
   "outputs": [],
   "source": [
    "create_htc_120_csv('htc_test.csv', 1000000)"
   ]
  },
  {
   "cell_type": "code",
   "execution_count": 27,
   "metadata": {},
   "outputs": [],
   "source": [
    "import pandas as pd"
   ]
  },
  {
   "cell_type": "code",
   "execution_count": 28,
   "metadata": {},
   "outputs": [],
   "source": [
    "df_temp = pd.read_csv('./temp_test.csv')"
   ]
  },
  {
   "cell_type": "code",
   "execution_count": 29,
   "metadata": {},
   "outputs": [],
   "source": [
    "#df_temp.head()"
   ]
  },
  {
   "cell_type": "code",
   "execution_count": 38,
   "metadata": {},
   "outputs": [],
   "source": [
    "df_htc = pd.read_csv('./htc_test.csv')"
   ]
  },
  {
   "cell_type": "code",
   "execution_count": 31,
   "metadata": {},
   "outputs": [],
   "source": [
    "#df_htc.head()"
   ]
  },
  {
   "cell_type": "code",
   "execution_count": 32,
   "metadata": {},
   "outputs": [],
   "source": [
    "#df_htc.to_numpy()[0]"
   ]
  },
  {
   "cell_type": "code",
   "execution_count": 58,
   "metadata": {},
   "outputs": [
    {
     "data": {
      "image/png": "[encoded data removed]",
      "text/plain": [
       "<Figure size 640x480 with 1 Axes>"
      ]
     },
     "metadata": {},
     "output_type": "display_data"
    }
   ],
   "source": [
    "plot_htc2(htc_created, temp)"
   ]
  },
  {
   "cell_type": "code",
   "execution_count": 59,
   "metadata": {},
   "outputs": [
    {
     "data": {
      "image/png": "[encoded data removed]",
      "text/plain": [
       "<Figure size 640x480 with 1 Axes>"
      ]
     },
     "metadata": {},
     "output_type": "display_data"
    }
   ],
   "source": [
    "plot_htc2(df_htc.to_numpy()[310], df_temp.to_numpy()[310])"
   ]
  },
  {
   "cell_type": "code",
   "execution_count": 41,
   "metadata": {},
   "outputs": [
    {
     "data": {
      "text/plain": [
       "[123.0,\n",
       " 123.0,\n",
       " 123.0,\n",
       " 123.0,\n",
       " 123.0,\n",
       " 123.0,\n",
       " 134.23918941052824,\n",
       " 157.75269953282753,\n",
       " 194.002226502842,\n",
       " 262.14849242855064,\n",
       " 386.13013659919005,\n",
       " 531.5590260154145,\n",
       " 508.82135804064995,\n",
       " 487.5311871132481,\n",
       " 467.6675306826128,\n",
       " 449.1261215577088,\n",
       " 431.78973977993263,\n",
       " 415.5312335695593,\n",
       " 400.0609533841539,\n",
       " 384.51480315989,\n",
       " 391.00674325893306,\n",
       " 436.09293650522886,\n",
       " 801.8353978685109,\n",
       " 8444.203700191709,\n",
       " 8127.133546244831,\n",
       " 7553.738620790053,\n",
       " 6743.714088419944,\n",
       " 5792.727265219672,\n",
       " 4824.361603459944,\n",
       " 3931.757352931945,\n",
       " 3163.9634328483776,\n",
       " 2530.409266510909,\n",
       " 1982.5661648669213,\n",
       " 1460.2306164419756,\n",
       " 931.9285534416917,\n",
       " 414.0,\n",
       " 414.0,\n",
       " 414.0,\n",
       " 414.0,\n",
       " 414.0,\n",
       " 414.0,\n",
       " 414.0,\n",
       " 414.0,\n",
       " 414.0,\n",
       " 414.0,\n",
       " 414.0,\n",
       " 414.0,\n",
       " 414.0,\n",
       " 414.0,\n",
       " 414.0,\n",
       " 414.0,\n",
       " 414.0,\n",
       " 414.0,\n",
       " 414.0,\n",
       " 414.0,\n",
       " 414.0,\n",
       " 414.0,\n",
       " 414.0,\n",
       " 414.0,\n",
       " 414.0,\n",
       " 414.0,\n",
       " 414.0,\n",
       " 414.0,\n",
       " 414.0,\n",
       " 414.0,\n",
       " 414.0,\n",
       " 414.0,\n",
       " 414.0,\n",
       " 414.0,\n",
       " 414.0,\n",
       " 414.0,\n",
       " 414.0,\n",
       " 414.0,\n",
       " 414.0,\n",
       " 414.0,\n",
       " 414.0,\n",
       " 414.0,\n",
       " 414.0,\n",
       " 414.0,\n",
       " 414.0,\n",
       " 414.0,\n",
       " 414.0,\n",
       " 414.0,\n",
       " 414.0,\n",
       " 414.0,\n",
       " 414.0,\n",
       " 414.0,\n",
       " 414.0,\n",
       " 414.0,\n",
       " 414.0,\n",
       " 414.0,\n",
       " 414.0,\n",
       " 414.0,\n",
       " 414.0,\n",
       " 414.0,\n",
       " 414.0,\n",
       " 414.0,\n",
       " 414.0,\n",
       " 414.0,\n",
       " 414.0,\n",
       " 414.0,\n",
       " 414.0,\n",
       " 414.0,\n",
       " 414.0,\n",
       " 414.0,\n",
       " 414.0,\n",
       " 414.0,\n",
       " 414.0,\n",
       " 414.0,\n",
       " 414.0,\n",
       " 414.0,\n",
       " 414.0,\n",
       " 414.0,\n",
       " 414.0,\n",
       " 414.0,\n",
       " 414.0,\n",
       " 414.0,\n",
       " 414.0,\n",
       " 414.0,\n",
       " 414.0]"
      ]
     },
     "execution_count": 41,
     "metadata": {},
     "output_type": "execute_result"
    }
   ],
   "source": [
    "htc_created"
   ]
  },
  {
   "cell_type": "code",
   "execution_count": 42,
   "metadata": {},
   "outputs": [
    {
     "data": {
      "text/plain": [
       "array([[123.        , 123.        , 123.        , ..., 414.        ,\n",
       "        414.        , 414.        ],\n",
       "       [391.        , 391.        , 391.        , ..., 347.        ,\n",
       "        347.        , 347.        ],\n",
       "       [365.        , 365.        , 433.0650075 , ..., 269.        ,\n",
       "        269.        , 269.        ],\n",
       "       ...,\n",
       "       [332.        , 332.        , 332.37330538, ..., 372.        ,\n",
       "        372.        , 372.        ],\n",
       "       [251.        , 251.        , 251.        , ..., 416.        ,\n",
       "        416.        , 416.        ],\n",
       "       [124.        , 124.        , 124.        , ..., 206.        ,\n",
       "        206.        , 206.        ]])"
      ]
     },
     "execution_count": 42,
     "metadata": {},
     "output_type": "execute_result"
    }
   ],
   "source": [
    "df_htc.to_numpy()"
   ]
  },
  {
   "cell_type": "code",
   "execution_count": null,
   "metadata": {},
   "outputs": [],
   "source": []
  }
 ],
 "metadata": {
  "kernelspec": {
   "display_name": "Python 3",
   "language": "python",
   "name": "python3"
  },
  "language_info": {
   "codemirror_mode": {
    "name": "ipython",
    "version": 3
   },
   "file_extension": ".py",
   "mimetype": "text/x-python",
   "name": "python",
   "nbconvert_exporter": "python",
   "pygments_lexer": "ipython3",
   "version": "3.9.2"
  },
  "orig_nbformat": 4
 },
 "nbformat": 4,
 "nbformat_minor": 2
}
