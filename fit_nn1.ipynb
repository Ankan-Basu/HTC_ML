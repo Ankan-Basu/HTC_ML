{
 "cells": [
  {
   "cell_type": "code",
   "execution_count": 1,
   "metadata": {},
   "outputs": [],
   "source": [
    "import numpy as np \n",
    "import pandas as pd"
   ]
  },
  {
   "cell_type": "code",
   "execution_count": 2,
   "metadata": {},
   "outputs": [],
   "source": [
    "import matplotlib.pyplot as plt \n",
    "%matplotlib inline"
   ]
  },
  {
   "cell_type": "code",
   "execution_count": 3,
   "metadata": {},
   "outputs": [],
   "source": [
    "from sklearn.preprocessing import StandardScaler"
   ]
  },
  {
   "cell_type": "code",
   "execution_count": 4,
   "metadata": {},
   "outputs": [
    {
     "name": "stderr",
     "output_type": "stream",
     "text": [
      "2023-05-05 18:51:56.955330: I tensorflow/tsl/cuda/cudart_stub.cc:28] Could not find cuda drivers on your machine, GPU will not be used.\n",
      "2023-05-05 18:51:57.113299: I tensorflow/tsl/cuda/cudart_stub.cc:28] Could not find cuda drivers on your machine, GPU will not be used.\n",
      "2023-05-05 18:51:57.114984: I tensorflow/core/platform/cpu_feature_guard.cc:182] This TensorFlow binary is optimized to use available CPU instructions in performance-critical operations.\n",
      "To enable the following instructions: AVX2 FMA, in other operations, rebuild TensorFlow with the appropriate compiler flags.\n",
      "2023-05-05 18:51:58.231156: W tensorflow/compiler/tf2tensorrt/utils/py_utils.cc:38] TF-TRT Warning: Could not find TensorRT\n"
     ]
    }
   ],
   "source": [
    "import tensorflow as tf \n",
    "from tensorflow import keras"
   ]
  },
  {
   "cell_type": "code",
   "execution_count": 5,
   "metadata": {},
   "outputs": [],
   "source": [
    "htc = pd.read_csv('./htc_test.csv')"
   ]
  },
  {
   "cell_type": "code",
   "execution_count": 6,
   "metadata": {},
   "outputs": [],
   "source": [
    "temp = pd.read_csv('./temp_test.csv')"
   ]
  },
  {
   "cell_type": "code",
   "execution_count": 28,
   "metadata": {},
   "outputs": [],
   "source": [
    "x = temp.to_numpy()\n",
    "y = htc.to_numpy()"
   ]
  },
  {
   "cell_type": "code",
   "execution_count": 29,
   "metadata": {},
   "outputs": [],
   "source": [
    "x_train = x[:900000]\n",
    "y_train = y[:900000]"
   ]
  },
  {
   "cell_type": "code",
   "execution_count": 30,
   "metadata": {},
   "outputs": [],
   "source": [
    "x_train_unscaled = x_train.copy()"
   ]
  },
  {
   "cell_type": "code",
   "execution_count": 31,
   "metadata": {},
   "outputs": [],
   "source": [
    "# x_train"
   ]
  },
  {
   "cell_type": "code",
   "execution_count": 32,
   "metadata": {},
   "outputs": [],
   "source": [
    "x_valid = x[900000:910000]\n",
    "y_valid = y[900000:910000]"
   ]
  },
  {
   "cell_type": "code",
   "execution_count": 33,
   "metadata": {},
   "outputs": [],
   "source": [
    "x_test = x[910000:920000]\n",
    "y_test = y[910000:920000]"
   ]
  },
  {
   "cell_type": "code",
   "execution_count": 34,
   "metadata": {},
   "outputs": [],
   "source": [
    "scaler = StandardScaler()\n",
    "scaler.fit(x_train)\n",
    "x_train = scaler.transform(x_train)\n",
    "x_valid = scaler.transform(x_valid)\n",
    "x_test = scaler.transform(x_test)"
   ]
  },
  {
   "cell_type": "code",
   "execution_count": 35,
   "metadata": {},
   "outputs": [
    {
     "data": {
      "text/plain": [
       "array([[ 0.        ,  1.45409407,  1.36848733, ..., -0.72867322,\n",
       "        -0.7301573 , -0.73159145],\n",
       "       [ 0.        , -1.45918643, -1.3107759 , ..., -0.61347292,\n",
       "        -0.61115896, -0.60890085],\n",
       "       [ 0.        , -1.84191866, -1.80724928, ...,  2.00196496,\n",
       "         1.9972822 ,  1.99258634],\n",
       "       ...,\n",
       "       [ 0.        , -0.61105765, -0.3715768 , ...,  2.28871353,\n",
       "         2.29415488,  2.29953493],\n",
       "       [ 0.        , -1.21884079, -0.80804036, ...,  1.62465891,\n",
       "         1.62649095,  1.62826128],\n",
       "       [ 0.        , -0.12235484, -1.00141229, ..., -1.41938763,\n",
       "        -1.41388688, -1.40838305]])"
      ]
     },
     "execution_count": 35,
     "metadata": {},
     "output_type": "execute_result"
    }
   ],
   "source": [
    "x_train"
   ]
  },
  {
   "cell_type": "code",
   "execution_count": 36,
   "metadata": {},
   "outputs": [],
   "source": [
    "y_train_log = np.log(y_train)\n",
    "y_valid_log = np.log(y_valid)\n",
    "y_test_log = np.log(y_test)"
   ]
  },
  {
   "cell_type": "code",
   "execution_count": 56,
   "metadata": {},
   "outputs": [],
   "source": [
    "model = keras.models.Sequential([\n",
    "    keras.layers.Input(shape=x_train.shape[1:]),\n",
    "    keras.layers.Dense(100, activation='relu'),\n",
    "    keras.layers.Dense(50, activation='relu'),\n",
    "    keras.layers.Dense(100, activation='relu'),\n",
    "    keras.layers.Dense(75, activation='relu'),\n",
    "    keras.layers.Dense(100, activation='relu'),\n",
    "    keras.layers.Dense(120)\n",
    "])"
   ]
  },
  {
   "cell_type": "code",
   "execution_count": 57,
   "metadata": {},
   "outputs": [],
   "source": [
    "model.compile(loss='mse', optimizer='adam', metrics=[\n",
    "    keras.metrics.RootMeanSquaredError(),\n",
    "    keras.metrics.MeanAbsolutePercentageError()\n",
    "])"
   ]
  },
  {
   "cell_type": "code",
   "execution_count": 21,
   "metadata": {},
   "outputs": [],
   "source": [
    "# model = keras.models.load_model('./MLP2.h5')"
   ]
  },
  {
   "cell_type": "code",
   "execution_count": 74,
   "metadata": {},
   "outputs": [
    {
     "name": "stdout",
     "output_type": "stream",
     "text": [
      "Epoch 1/10\n",
      "28125/28125 [==============================] - 79s 3ms/step - loss: 0.0063 - root_mean_squared_error: 0.0792 - mean_absolute_percentage_error: 0.5259 - val_loss: 0.0063 - val_root_mean_squared_error: 0.0794 - val_mean_absolute_percentage_error: 0.5196\n",
      "Epoch 2/10\n",
      "28125/28125 [==============================] - 78s 3ms/step - loss: 0.0062 - root_mean_squared_error: 0.0790 - mean_absolute_percentage_error: 0.5233 - val_loss: 0.0060 - val_root_mean_squared_error: 0.0777 - val_mean_absolute_percentage_error: 0.5366\n",
      "Epoch 3/10\n",
      "28125/28125 [==============================] - 78s 3ms/step - loss: 0.0062 - root_mean_squared_error: 0.0786 - mean_absolute_percentage_error: 0.5195 - val_loss: 0.0063 - val_root_mean_squared_error: 0.0792 - val_mean_absolute_percentage_error: 0.4965\n",
      "Epoch 4/10\n",
      "28125/28125 [==============================] - 78s 3ms/step - loss: 0.0061 - root_mean_squared_error: 0.0784 - mean_absolute_percentage_error: 0.5176 - val_loss: 0.0082 - val_root_mean_squared_error: 0.0907 - val_mean_absolute_percentage_error: 0.6388\n",
      "Epoch 5/10\n",
      "28125/28125 [==============================] - 78s 3ms/step - loss: 0.0061 - root_mean_squared_error: 0.0782 - mean_absolute_percentage_error: 0.5150 - val_loss: 0.0061 - val_root_mean_squared_error: 0.0782 - val_mean_absolute_percentage_error: 0.4970\n",
      "Epoch 6/10\n",
      "28125/28125 [==============================] - 78s 3ms/step - loss: 0.0061 - root_mean_squared_error: 0.0779 - mean_absolute_percentage_error: 0.5115 - val_loss: 0.0069 - val_root_mean_squared_error: 0.0832 - val_mean_absolute_percentage_error: 0.5600\n",
      "Epoch 7/10\n",
      "28125/28125 [==============================] - 81s 3ms/step - loss: 0.0060 - root_mean_squared_error: 0.0776 - mean_absolute_percentage_error: 0.5096 - val_loss: 0.0060 - val_root_mean_squared_error: 0.0775 - val_mean_absolute_percentage_error: 0.4854\n",
      "Epoch 8/10\n",
      "28125/28125 [==============================] - 80s 3ms/step - loss: 0.0060 - root_mean_squared_error: 0.0775 - mean_absolute_percentage_error: 0.5081 - val_loss: 0.0058 - val_root_mean_squared_error: 0.0759 - val_mean_absolute_percentage_error: 0.4668\n",
      "Epoch 9/10\n",
      "28125/28125 [==============================] - 80s 3ms/step - loss: 0.0060 - root_mean_squared_error: 0.0772 - mean_absolute_percentage_error: 0.5047 - val_loss: 0.0058 - val_root_mean_squared_error: 0.0761 - val_mean_absolute_percentage_error: 0.5633\n",
      "Epoch 10/10\n",
      "28125/28125 [==============================] - 79s 3ms/step - loss: 0.0059 - root_mean_squared_error: 0.0771 - mean_absolute_percentage_error: 0.5035 - val_loss: 0.0060 - val_root_mean_squared_error: 0.0773 - val_mean_absolute_percentage_error: 0.5486\n"
     ]
    }
   ],
   "source": [
    "history = model.fit(x_train, y_train_log, epochs=10, validation_data=(x_valid, y_valid_log))"
   ]
  },
  {
   "cell_type": "code",
   "execution_count": 75,
   "metadata": {},
   "outputs": [
    {
     "name": "stdout",
     "output_type": "stream",
     "text": [
      "313/313 [==============================] - 1s 2ms/step - loss: 0.0059 - root_mean_squared_error: 0.0770 - mean_absolute_percentage_error: 0.5506\n"
     ]
    },
    {
     "data": {
      "text/plain": [
       "[0.005922739394009113, 0.07695931941270828, 0.5506191849708557]"
      ]
     },
     "execution_count": 75,
     "metadata": {},
     "output_type": "execute_result"
    }
   ],
   "source": [
    "model.evaluate(x_test, y_test_log)"
   ]
  },
  {
   "cell_type": "code",
   "execution_count": 92,
   "metadata": {},
   "outputs": [],
   "source": [
    "model.save('MLP5_log.h5')"
   ]
  },
  {
   "cell_type": "code",
   "execution_count": 80,
   "metadata": {},
   "outputs": [
    {
     "name": "stdout",
     "output_type": "stream",
     "text": [
      "1/1 [==============================] - 0s 21ms/step\n"
     ]
    },
    {
     "data": {
      "image/png": "[encoded data removed]",
      "text/plain": [
       "<Figure size 640x480 with 1 Axes>"
      ]
     },
     "metadata": {},
     "output_type": "display_data"
    }
   ],
   "source": [
    "\n",
    "\n",
    "indx = 0\n",
    "# x = np.arange(0, 120, 1)\n",
    "x = x_train_unscaled[indx]\n",
    "# print(x)\n",
    "plt.plot(x, np.exp(y_train_log[indx]), label='original')\n",
    "plt.plot(x, np.exp(model.predict(x_train[indx:indx+1])[0]), label='predicted')\n",
    "  \n",
    "# Naming the x-axis, y-axis and the whole graph\n",
    "plt.xlabel(\"Time\")\n",
    "plt.ylabel(\"HTC\")\n",
    "plt.title(\"HTC vs Time\")\n",
    "  \n",
    "# Adding legend, which helps us recognize the curve according to it's color\n",
    "plt.legend()\n",
    "  \n",
    "# To load the display window\n",
    "plt.show()"
   ]
  },
  {
   "cell_type": "code",
   "execution_count": 81,
   "metadata": {},
   "outputs": [
    {
     "name": "stdout",
     "output_type": "stream",
     "text": [
      "28125/28125 [==============================] - 52s 2ms/step\n"
     ]
    }
   ],
   "source": [
    "y_train_pred_log = model.predict(x_train) "
   ]
  },
  {
   "cell_type": "code",
   "execution_count": 82,
   "metadata": {},
   "outputs": [
    {
     "data": {
      "text/plain": [
       "array([[4.82664  , 4.8309097, 4.8418484, ..., 6.0378904, 6.0378904,\n",
       "        6.0378904],\n",
       "       [5.9266925, 5.92714  , 5.9561996, ..., 5.8647447, 5.864744 ,\n",
       "        5.8647447],\n",
       "       [5.9409018, 5.9455485, 6.0373387, ..., 5.617916 , 5.617916 ,\n",
       "        5.6179166],\n",
       "       ...,\n",
       "       [5.705916 , 5.7067785, 5.707866 , ..., 5.372569 , 5.372569 ,\n",
       "        5.3725696],\n",
       "       [5.9353805, 5.937969 , 5.9472446, ..., 5.496182 , 5.4961815,\n",
       "        5.496182 ],\n",
       "       [5.5558295, 5.556261 , 5.6426606, ..., 6.2191477, 6.2191477,\n",
       "        6.219148 ]], dtype=float32)"
      ]
     },
     "execution_count": 82,
     "metadata": {},
     "output_type": "execute_result"
    }
   ],
   "source": [
    "y_train_pred_log"
   ]
  },
  {
   "cell_type": "code",
   "execution_count": 84,
   "metadata": {},
   "outputs": [],
   "source": [
    "from sklearn.metrics import mean_squared_error"
   ]
  },
  {
   "cell_type": "code",
   "execution_count": 85,
   "metadata": {},
   "outputs": [
    {
     "data": {
      "text/plain": [
       "0.005938076659876991"
      ]
     },
     "execution_count": 85,
     "metadata": {},
     "output_type": "execute_result"
    }
   ],
   "source": [
    "mean_squared_error(y_train_log, y_train_pred_log)"
   ]
  },
  {
   "cell_type": "code",
   "execution_count": 89,
   "metadata": {},
   "outputs": [],
   "source": [
    "mse = mean_squared_error(y_train, np.exp(y_train_pred_log))"
   ]
  },
  {
   "cell_type": "code",
   "execution_count": 91,
   "metadata": {},
   "outputs": [
    {
     "data": {
      "text/plain": [
       "266.44238876898925"
      ]
     },
     "execution_count": 91,
     "metadata": {},
     "output_type": "execute_result"
    }
   ],
   "source": [
    "np.sqrt(mse)"
   ]
  },
  {
   "cell_type": "code",
   "execution_count": 87,
   "metadata": {},
   "outputs": [
    {
     "data": {
      "text/plain": [
       "array([[123.       , 123.       , 123.       , ..., 414.       ,\n",
       "        414.       , 414.       ],\n",
       "       [391.       , 391.       , 391.       , ..., 347.       ,\n",
       "        347.       , 347.       ],\n",
       "       [365.       , 365.       , 433.0650075, ..., 269.       ,\n",
       "        269.       , 269.       ],\n",
       "       ...,\n",
       "       [318.       , 318.       , 318.       , ..., 216.       ,\n",
       "        216.       , 216.       ],\n",
       "       [376.       , 376.       , 376.       , ..., 242.       ,\n",
       "        242.       , 242.       ],\n",
       "       [268.       , 268.       , 268.       , ..., 491.       ,\n",
       "        491.       , 491.       ]])"
      ]
     },
     "execution_count": 87,
     "metadata": {},
     "output_type": "execute_result"
    }
   ],
   "source": [
    "y_train"
   ]
  },
  {
   "cell_type": "code",
   "execution_count": 88,
   "metadata": {},
   "outputs": [
    {
     "data": {
      "text/plain": [
       "array([[124.79098, 125.32492, 126.70332, ..., 419.00818, 419.00818,\n",
       "        419.00818],\n",
       "       [374.9124 , 375.08035, 386.13986, ..., 352.39215, 352.392  ,\n",
       "        352.39215],\n",
       "       [380.27768, 382.04886, 418.77707, ..., 275.31506, 275.31506,\n",
       "        275.3152 ],\n",
       "       ...,\n",
       "       [300.64072, 300.90018, 301.2276 , ..., 215.41557, 215.41557,\n",
       "        215.41566],\n",
       "       [378.1838 , 379.16412, 382.69742, ..., 243.75946, 243.75935,\n",
       "        243.75946],\n",
       "       [258.74152, 258.85318, 282.2126 , ..., 502.27493, 502.27493,\n",
       "        502.27518]], dtype=float32)"
      ]
     },
     "execution_count": 88,
     "metadata": {},
     "output_type": "execute_result"
    }
   ],
   "source": [
    "np.exp(y_train_pred_log)"
   ]
  },
  {
   "cell_type": "code",
   "execution_count": null,
   "metadata": {},
   "outputs": [],
   "source": []
  }
 ],
 "metadata": {
  "kernelspec": {
   "display_name": "Python 3",
   "language": "python",
   "name": "python3"
  },
  "language_info": {
   "codemirror_mode": {
    "name": "ipython",
    "version": 3
   },
   "file_extension": ".py",
   "mimetype": "text/x-python",
   "name": "python",
   "nbconvert_exporter": "python",
   "pygments_lexer": "ipython3",
   "version": "3.9.2"
  },
  "orig_nbformat": 4
 },
 "nbformat": 4,
 "nbformat_minor": 2
}
